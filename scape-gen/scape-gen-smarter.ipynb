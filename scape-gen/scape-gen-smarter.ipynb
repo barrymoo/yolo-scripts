{
 "cells": [
  {
   "cell_type": "code",
   "execution_count": 5,
   "metadata": {},
   "outputs": [],
   "source": [
    "import pandas as pd\n",
    "import random\n",
    "import scaper\n",
    "\n",
    "from pathlib import Path\n",
    "import numpy as np\n",
    "\n",
    "from scipy import signal\n",
    "from librosa import load\n",
    "\n",
    "from sklearn.preprocessing import MinMaxScaler\n",
    "from PIL import Image\n",
    "\n",
    "from multiprocessing import cpu_count\n",
    "from concurrent.futures import ProcessPoolExecutor\n",
    "from concurrent.futures import as_completed\n"
   ]
  },
  {
   "cell_type": "code",
   "execution_count": 6,
   "metadata": {},
   "outputs": [],
   "source": [
    "def gen_scapes_labels(sounds_toUse, source_dir, scape_count, base_name, background_label, scape_dur, foreground_dir, max_freq):\n",
    "    for i in range(len(sounds_toUse)):\n",
    "        # read csv of each sound_toUse:\n",
    "        sounds_list[i] = pd.read_csv(f\"{source_dir}/audio/foreground_csvs/{sounds_toUse[i][0]}.csv\", header=None)\n",
    "        sounds_list[i].columns = [\"Src_file\", \"Duration\", \"Low_freq\", \"High_freq\"]\n",
    "        # print(sounds_list[i], \"\\n\")\n",
    "\n",
    "    # print(f\"sounds_list[0] = {sounds_list[0]}\\n\")\n",
    "\n",
    "    for scape in range(scape_count):\n",
    "\n",
    "        # set up scape info\n",
    "        scape_name = f\"{base_name}_scape{scape}\"\n",
    "        print(f\"scape{scape}:\")\n",
    "        label = \"\"\n",
    "\n",
    "        # set up scaper\n",
    "        sc = scaper.Scaper(scape_dur, f\"{source_dir}/audio/foreground\", f\"{source_dir}/audio/background\")\n",
    "        sc.ref_db = -52 #TODO\n",
    "\n",
    "        audiofile = f\"{out_dir}/scapes/{scape_name}.wav\"\n",
    "        jamsfile = f\"{out_dir}/jams/{scape_name}.jams\"\n",
    "\n",
    "        sc.add_background(label = (\"const\", background_label),\n",
    "                        source_file = (\"choose\", []),\n",
    "                        source_time = (\"uniform\", 0, 60-scape_dur)) # background source files are 60 seconds long\n",
    "\n",
    "        for i in range(len(sounds_toUse)): # for each type of call\n",
    "            df = sounds_list[i]\n",
    "            j = random.randint(sounds_toUse[i][1], sounds_toUse[i][2]) # choose how many calls of this type in the file\n",
    "\n",
    "            for k in range(j):\n",
    "                foreground_label = sounds_toUse[i][0]\n",
    "\n",
    "                choice = df.sample() # choose a random sound from the list of this call type\n",
    "                src = choice[\"Src_file\"].iloc[0]\n",
    "\n",
    "                t = round(random.uniform(0,scape_dur-.25), scape_dur) #start time in file\n",
    "                dur = round(choice[\"Duration\"].iloc[0], 3)\n",
    "                end = t + dur\n",
    "                if(end > scape_dur):\n",
    "                    end = scape_dur\n",
    "                    dur = end - t\n",
    "                lo_freq = choice[\"Low_freq\"].iloc[0]\n",
    "                hi_freq = choice[\"High_freq\"].iloc[0]\n",
    "\n",
    "                if (hi_freq > max_freq): # just in case\n",
    "                    hi_freq = max_freq\n",
    "\n",
    "                YOLO_class = i\n",
    "                xCenter_percent = round((end + t)/(2*scape_dur),6)\n",
    "                yCenter_percent = round((hi_freq + lo_freq)/(2*max_freq),6)\n",
    "\n",
    "                width_percent = round((end-t)/scape_dur, 6)\n",
    "                height_percent = round((hi_freq - lo_freq)/max_freq, 6)\n",
    "\n",
    "                if (label == \"\"):\n",
    "                    label = f\"{YOLO_class} {xCenter_percent} {yCenter_percent} {width_percent} {height_percent}\"    \n",
    "\n",
    "                else:\n",
    "                    label = f\"{label}\\n{YOLO_class} {xCenter_percent} {yCenter_percent} {width_percent} {height_percent}\"\n",
    "\n",
    "                sc.add_event(label=(\"const\", sounds_toUse[i][0]),\n",
    "                        source_file = (\"const\", f\"{foreground_dir}/{foreground_label}/{src}\"),\n",
    "                        source_time = (\"const\", 0),\n",
    "                        event_time = (\"const\",t),\n",
    "                        event_duration = (\"const\", dur), # might get warnings\n",
    "                        snr = (\"uniform\", 5, 10), #-10, 6), #TODO: this always needs tested in case something is different about the foreground files\n",
    "                        pitch_shift = None,\n",
    "                        time_stretch = None )\n",
    "\n",
    "        # save labels to .txt file\n",
    "        with open(f\"{out_dir}/labels/{scape_name}.txt\", \"w\") as text_file:\n",
    "            text_file.write(label)\n",
    "#         print(label)\n",
    "\n",
    "        # add junk sounds, if any\n",
    "        if (junk != None):\n",
    "            junk_count = random.randint(junk[1], junk[2])    \n",
    "\n",
    "            for j in range(junk_count):\n",
    "                sc.add_event(label=(\"const\", junk[0]),\n",
    "                        source_file = (\"choose\", []),\n",
    "                        source_time = (\"const\", 0),\n",
    "                        event_time = (\"const\",t),\n",
    "                        event_duration = (\"const\", dur), # might get warnings\n",
    "                        snr = (\"uniform\", 10, 20), #-10, 6), #TODO: this always needs tested in case something is different about the foreground files\n",
    "                        pitch_shift = None,\n",
    "                        time_stretch = None )\n",
    "\n",
    "        sc.generate(audiofile,jamsfile,\n",
    "                       allow_repeated_label=True,\n",
    "                       allow_repeated_source=True,\n",
    "                       reverb=0,\n",
    "                       disable_sox_warnings=True,\n",
    "                       no_audio=False)\n",
    "            \n"
   ]
  },
  {
   "cell_type": "code",
   "execution_count": 7,
   "metadata": {},
   "outputs": [],
   "source": [
    "def decibel_filter(spectrogram, db_cutoff=-100.0):\n",
    "    remove_zeros = np.copy(spectrogram)\n",
    "    remove_zeros[remove_zeros == 0.0] = np.nan\n",
    "    inDb = 10.0 * np.log10(remove_zeros)\n",
    "    inDb[inDb <= db_cutoff] = db_cutoff\n",
    "    return np.nan_to_num(10.0 ** (inDb / 10.0))\n",
    "\n",
    "\n",
    "def chunk_preprocess(chunk):\n",
    "    results = [None] * chunk.shape[0]\n",
    "    for idx, (_, row) in enumerate(chunk.iterrows()):\n",
    "        results[idx] = (row[\"Index\"], preprocess(row[\"Filename\"],width_px, height_px))\n",
    "    return results\n",
    "\n",
    "\n",
    "def preprocess(filename, width_px, height_px):\n",
    "\n",
    "    print(f'\\nfilename = {filename}\\n')\n",
    "\n",
    "    # The path for p.stem\n",
    "    p = Path(filename) \n",
    "\n",
    "    # Generate frequencies and times\n",
    "    samples, sample_rate = load(\n",
    "        f\"{out_dir}/{p.parent}/{p.stem}.wav\", mono=False, sr=44100, res_type=\"kaiser_fast\" #22050\n",
    "    )\n",
    "    freq, time, spec = signal.spectrogram(\n",
    "        samples,\n",
    "        sample_rate,\n",
    "        window=\"hann\",\n",
    "        nperseg=512,\n",
    "        noverlap=384,\n",
    "        nfft=512,\n",
    "        scaling=\"spectrum\",\n",
    "    )\n",
    "\n",
    "    # Filters\n",
    "    spec = decibel_filter(spec)\n",
    "    spec = np.log10(spec)\n",
    "    spec_mean = np.mean(spec)\n",
    "    spec_std = np.std(spec)\n",
    "    spec = (spec - spec_mean) / spec_std\n",
    "\n",
    "    # Lowpass filter\n",
    "    lowpass = max_freq #hz\n",
    "    highest_index = np.abs(freq - lowpass).argmin()\n",
    "    spec = spec[0:highest_index, :]\n",
    "    freq = freq[0:highest_index]\n",
    "\n",
    "    # Save spectrogram of the wav file\n",
    "    scaler = MinMaxScaler(feature_range=(0, 255))\n",
    "    spec = scaler.fit_transform(spec)\n",
    "    image = Image.fromarray(np.flip(spec, axis=0))\n",
    "    image = image.convert(\"RGB\")\n",
    "    image = image.resize((width_px, height_px)) #10304, 256  notched specto = 5164 x 101, squished to be divisible by 32\n",
    "    image.save(f\"{out_dir}/JPEGImages/{p.stem}.jpg\")   \n",
    "\n",
    "    return f\"{out_dir}/JPEGImages/{p.stem}.jpg\""
   ]
  },
  {
   "cell_type": "code",
   "execution_count": 8,
   "metadata": {},
   "outputs": [],
   "source": [
    "base_name = \"rats_EATO_WOTH\" # the name prefixing every scape. Should match output folder name - UPDATE \n",
    "scape_count = 5 # UPDATE\n",
    "scape_dur = 5 # UPDATE\n",
    "\n",
    "# UPDATE: update source_dir, confirm directory structure inside source_dir matches expected (audio/foreground, audio/background, audio/foreground_csvs)\n",
    "#       note: there should be a matching .csv file in audio/foreground_csvs for each foreground folder, containing clip length & freq information to build boxes from\n",
    "#       TODO: store/read background file length information instead of assuming 1-minute files\n",
    "\n",
    "source_dir = \"/Users/kitzeslab/Desktop/yolo-scripts/scape-gen\"\n",
    "out_dir = f\"{source_dir}/{base_name}\"\n",
    "background_dir = f\"{source_dir}/audio/background\"\n",
    "background_label = \"norats-nofarinosas\"\n",
    "foreground_dir = f\"{source_dir}/audio/foreground\"\n",
    "junk = None #(\"junk-easy\", 0, 2) # junk = None if none\n",
    "\n",
    "max_freq = 8000 # for lowpass filter in image gen - UPDATE\n",
    "width_px = 5152 # define image resize - UPDATE \n",
    "height_px = 96\n",
    "\n",
    "# prep empty variables to fill\n",
    "labels = [None]*scape_count\n",
    "count = 0 # current label number, as reference index for place in labels\n",
    "\n",
    "# UPDATE: fill sounds_toUse with desired scape properties\n",
    "# sounds_toUse = list of tuples containing which sound categories to include in this dataset, and how many to include - specified as min, max per scape\n",
    "#    TODO: add probability option?\n",
    "sounds_toUse = [(\"rats-fewer-singlebarks\", 1, 2), (\"EATO\", 0, 1), (\"WOTH\", 0, 2)]\n",
    "sounds_list = [None]*len(sounds_toUse)"
   ]
  },
  {
   "cell_type": "code",
   "execution_count": 9,
   "metadata": {},
   "outputs": [
    {
     "name": "stdout",
     "output_type": "stream",
     "text": [
      "scape0:\n"
     ]
    },
    {
     "name": "stderr",
     "output_type": "stream",
     "text": [
      "/Users/kitzeslab/anaconda3/lib/python3.7/site-packages/scaper/core.py:1170: ScaperWarning: rats-fewer-singlebarks event duration (0.35) is greater that source duration (0.35), changing to 0.35\n",
      "  ScaperWarning)\n"
     ]
    },
    {
     "name": "stdout",
     "output_type": "stream",
     "text": [
      "scape1:\n"
     ]
    },
    {
     "name": "stderr",
     "output_type": "stream",
     "text": [
      "/Users/kitzeslab/anaconda3/lib/python3.7/site-packages/scaper/core.py:1170: ScaperWarning: WOTH event duration (0.77) is greater that source duration (0.77), changing to 0.77\n",
      "  ScaperWarning)\n",
      "/Users/kitzeslab/anaconda3/lib/python3.7/site-packages/scaper/core.py:1170: ScaperWarning: WOTH event duration (0.77) is greater that source duration (0.77), changing to 0.77\n",
      "  ScaperWarning)\n"
     ]
    },
    {
     "name": "stdout",
     "output_type": "stream",
     "text": [
      "scape2:\n"
     ]
    },
    {
     "name": "stderr",
     "output_type": "stream",
     "text": [
      "/Users/kitzeslab/anaconda3/lib/python3.7/site-packages/scaper/core.py:1170: ScaperWarning: rats-fewer-singlebarks event duration (0.55) is greater that source duration (0.55), changing to 0.55\n",
      "  ScaperWarning)\n",
      "/Users/kitzeslab/anaconda3/lib/python3.7/site-packages/scaper/core.py:1170: ScaperWarning: rats-fewer-singlebarks event duration (0.66) is greater that source duration (0.66), changing to 0.66\n",
      "  ScaperWarning)\n"
     ]
    },
    {
     "name": "stdout",
     "output_type": "stream",
     "text": [
      "scape3:\n"
     ]
    },
    {
     "name": "stderr",
     "output_type": "stream",
     "text": [
      "/Users/kitzeslab/anaconda3/lib/python3.7/site-packages/scaper/core.py:1170: ScaperWarning: WOTH event duration (0.77) is greater that source duration (0.77), changing to 0.77\n",
      "  ScaperWarning)\n"
     ]
    },
    {
     "name": "stdout",
     "output_type": "stream",
     "text": [
      "scape4:\n"
     ]
    },
    {
     "name": "stderr",
     "output_type": "stream",
     "text": [
      "/Users/kitzeslab/anaconda3/lib/python3.7/site-packages/scaper/core.py:1170: ScaperWarning: rats-fewer-singlebarks event duration (0.66) is greater that source duration (0.66), changing to 0.66\n",
      "  ScaperWarning)\n",
      "/Users/kitzeslab/anaconda3/lib/python3.7/site-packages/scaper/core.py:1170: ScaperWarning: WOTH event duration (0.77) is greater that source duration (0.77), changing to 0.77\n",
      "  ScaperWarning)\n"
     ]
    }
   ],
   "source": [
    "gen_scapes_labels(sounds_toUse, source_dir, scape_count, base_name, background_label, scape_dur, foreground_dir, max_freq)"
   ]
  },
  {
   "cell_type": "code",
   "execution_count": 10,
   "metadata": {},
   "outputs": [
    {
     "name": "stdout",
     "output_type": "stream",
     "text": [
      "\n",
      "filename = scapes/rats_EATO_WOTH_scape2.wav\n",
      "\n",
      "filename = scapes/rats_EATO_WOTH_scape3.wav\n",
      "\n",
      "filename = scapes/rats_EATO_WOTH_scape0.wav\n",
      "\n",
      "\n",
      "filename = scapes/rats_EATO_WOTH_scape4.wav\n",
      "\n",
      "\n",
      "\n",
      "\n",
      "filename = scapes/rats_EATO_WOTH_scape1.wav\n",
      "\n"
     ]
    },
    {
     "ename": "ValueError",
     "evalue": "too many values to unpack (expected 2)",
     "output_type": "error",
     "traceback": [
      "\u001b[0;31m---------------------------------------------------------------------------\u001b[0m",
      "\u001b[0;31mValueError\u001b[0m                                Traceback (most recent call last)",
      "\u001b[0;32m<ipython-input-10-81c262051587>\u001b[0m in \u001b[0;36m<module>\u001b[0;34m\u001b[0m\n\u001b[1;32m     15\u001b[0m \u001b[0;32mfor\u001b[0m \u001b[0mfut\u001b[0m \u001b[0;32min\u001b[0m \u001b[0mas_completed\u001b[0m\u001b[0;34m(\u001b[0m\u001b[0mfuts\u001b[0m\u001b[0;34m)\u001b[0m\u001b[0;34m:\u001b[0m\u001b[0;34m\u001b[0m\u001b[0;34m\u001b[0m\u001b[0m\n\u001b[1;32m     16\u001b[0m     \u001b[0mres\u001b[0m \u001b[0;34m=\u001b[0m \u001b[0mfut\u001b[0m\u001b[0;34m.\u001b[0m\u001b[0mresult\u001b[0m\u001b[0;34m(\u001b[0m\u001b[0;34m)\u001b[0m\u001b[0;34m\u001b[0m\u001b[0;34m\u001b[0m\u001b[0m\n\u001b[0;32m---> 17\u001b[0;31m     \u001b[0;32mfor\u001b[0m \u001b[0midx\u001b[0m\u001b[0;34m,\u001b[0m \u001b[0;34m(\u001b[0m\u001b[0mX\u001b[0m\u001b[0;34m,\u001b[0m \u001b[0my\u001b[0m\u001b[0;34m)\u001b[0m \u001b[0;32min\u001b[0m \u001b[0mres\u001b[0m\u001b[0;34m:\u001b[0m\u001b[0;34m\u001b[0m\u001b[0;34m\u001b[0m\u001b[0m\n\u001b[0m\u001b[1;32m     18\u001b[0m         \u001b[0mresults\u001b[0m\u001b[0;34m.\u001b[0m\u001b[0mloc\u001b[0m\u001b[0;34m[\u001b[0m\u001b[0midx\u001b[0m\u001b[0;34m,\u001b[0m \u001b[0;34m\"X\"\u001b[0m\u001b[0;34m]\u001b[0m \u001b[0;34m=\u001b[0m \u001b[0mX\u001b[0m\u001b[0;34m\u001b[0m\u001b[0;34m\u001b[0m\u001b[0m\n\u001b[1;32m     19\u001b[0m         \u001b[0mresults\u001b[0m\u001b[0;34m.\u001b[0m\u001b[0mloc\u001b[0m\u001b[0;34m[\u001b[0m\u001b[0midx\u001b[0m\u001b[0;34m,\u001b[0m \u001b[0;34m\"y\"\u001b[0m\u001b[0;34m]\u001b[0m \u001b[0;34m=\u001b[0m \u001b[0my\u001b[0m\u001b[0;34m\u001b[0m\u001b[0;34m\u001b[0m\u001b[0m\n",
      "\u001b[0;31mValueError\u001b[0m: too many values to unpack (expected 2)"
     ]
    }
   ],
   "source": [
    "# Fill DF \"df\" with all scape names and indices\n",
    "df = pd.read_csv(f\"{out_dir}/wavfiles.txt\", header=None)\n",
    "df.columns= [\"Filename\"]\n",
    "df[\"Index\"] = df.index.values\n",
    "\n",
    "# Create empty DF \"results\" with indices matching \"df\"\n",
    "results = pd.DataFrame(index=df.index.values, columns=[\"X\", \"y\"], dtype=str)\n",
    "\n",
    "# Parallelizee - send one filename at a time (chunk) to preproceser, which sends it to be processed)\n",
    "nprocs = cpu_count()\n",
    "chunks = np.array_split(df[[\"Filename\", \"Index\"]], nprocs)\n",
    "executor = ProcessPoolExecutor(nprocs)\n",
    "futs = [executor.submit(chunk_preprocess, chunk) for chunk in chunks]\n",
    "\n",
    "for fut in as_completed(futs):\n",
    "    res = fut.result()\n",
    "    for idx, (X, y) in res:\n",
    "        results.loc[idx, \"X\"] = X\n",
    "        results.loc[idx, \"y\"] = y\n",
    "\n",
    "# results.to_csv(f\"{out_dir}/all_files.csv\", index=None) # TODO NEXT: output all_files.csv as before to make gen_trainTest easy. Example below.\n",
    "#X,y\n",
    "# /path/to/{base}/JPEGImages/{base}_scape0.jpg,\"['{class1}', '{class3}', '{class4}', ..]\"\n",
    "# /path/to/{base}/JPEGImages/{base}_scape1.jpg,\"['{class0}', ..]\""
   ]
  },
  {
   "cell_type": "code",
   "execution_count": null,
   "metadata": {},
   "outputs": [],
   "source": []
  }
 ],
 "metadata": {
  "kernelspec": {
   "display_name": "Python 3",
   "language": "python",
   "name": "python3"
  },
  "language_info": {
   "codemirror_mode": {
    "name": "ipython",
    "version": 3
   },
   "file_extension": ".py",
   "mimetype": "text/x-python",
   "name": "python",
   "nbconvert_exporter": "python",
   "pygments_lexer": "ipython3",
   "version": "3.7.1"
  }
 },
 "nbformat": 4,
 "nbformat_minor": 2
}
